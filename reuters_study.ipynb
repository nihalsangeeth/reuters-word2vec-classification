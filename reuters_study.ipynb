{
 "cells": [
  {
   "cell_type": "markdown",
   "metadata": {},
   "source": [
    "## A study on Reuters-21578 Dataset"
   ]
  },
  {
   "cell_type": "markdown",
   "metadata": {},
   "source": [
    "https://archive.ics.uci.edu/ml/machine-learning-databases/reuters21578-mld/reuters21578.tar.gz"
   ]
  },
  {
   "cell_type": "code",
   "execution_count": 211,
   "metadata": {},
   "outputs": [],
   "source": [
    "#For live lossplot while training NN\n",
    "from IPython.display import clear_output\n",
    "from keras.callbacks import Callback\n",
    "from livelossplot.keras import PlotLossesCallback\n",
    "\n",
    "import random\n",
    "import glob\n",
    "import re\n",
    "import html\n",
    "from bs4 import BeautifulSoup\n",
    "\n",
    "import numpy as np\n",
    "import pandas as pd\n",
    "\n",
    "from gensim.utils import simple_preprocess, lemmatize\n",
    "from gensim.models.word2vec import Word2Vec\n",
    "from gensim.models import KeyedVectors\n",
    "\n",
    "from keras.models import Sequential, Model\n",
    "from keras.layers import Dense, Dropout, Activation, LSTM, Input\n",
    "from keras.layers.normalization import BatchNormalization\n",
    "\n",
    "from keras.preprocessing.text import Tokenizer\n",
    "from keras.preprocessing.sequence import pad_sequences\n",
    "from keras import optimizers, metrics\n",
    "\n",
    "from sklearn import preprocessing\n",
    "from sklearn.model_selection import train_test_split\n",
    "\n",
    "import matplotlib.pyplot as plt\n"
   ]
  },
  {
   "cell_type": "code",
   "execution_count": 3,
   "metadata": {},
   "outputs": [],
   "source": [
    "random.seed(1000)\n",
    "\n",
    "data_folder = './reuters/'\n",
    "\n",
    "sgml_files = glob.glob(data_folder + 'reut*.sgm')\n",
    "\n",
    "category_files = {\n",
    "    'to_': ('topics', 'all-topics-strings.lc.txt'),\n",
    "    'pl_': ('places', 'all-places-strings.lc.txt'),\n",
    "    'pe_': ('people', 'all-people-strings.lc.txt'),\n",
    "    'or_': ('organizations', 'all-orgs-strings.lc.txt'),\n",
    "    'ex_': ('exchanges', 'all-exchanges-strings.lc.txt')\n",
    "}\n",
    "\n",
    "# Word2Vec number of features\n",
    "num_features = 300\n",
    "# Limit each newsline to a fixed number of words\n",
    "document_max_num_words = 100"
   ]
  },
  {
   "cell_type": "code",
   "execution_count": 212,
   "metadata": {},
   "outputs": [
    {
     "data": {
      "text/html": [
       "<div>\n",
       "<style scoped>\n",
       "    .dataframe tbody tr th:only-of-type {\n",
       "        vertical-align: middle;\n",
       "    }\n",
       "\n",
       "    .dataframe tbody tr th {\n",
       "        vertical-align: top;\n",
       "    }\n",
       "\n",
       "    .dataframe thead th {\n",
       "        text-align: right;\n",
       "    }\n",
       "</style>\n",
       "<table border=\"1\" class=\"dataframe\">\n",
       "  <thead>\n",
       "    <tr style=\"text-align: right;\">\n",
       "      <th></th>\n",
       "      <th>name</th>\n",
       "      <th>type</th>\n",
       "      <th>newslines</th>\n",
       "    </tr>\n",
       "  </thead>\n",
       "  <tbody>\n",
       "    <tr>\n",
       "      <th>0</th>\n",
       "      <td>to_acq</td>\n",
       "      <td>topics</td>\n",
       "      <td>0</td>\n",
       "    </tr>\n",
       "    <tr>\n",
       "      <th>1</th>\n",
       "      <td>to_alum</td>\n",
       "      <td>topics</td>\n",
       "      <td>0</td>\n",
       "    </tr>\n",
       "    <tr>\n",
       "      <th>2</th>\n",
       "      <td>to_austdlr</td>\n",
       "      <td>topics</td>\n",
       "      <td>0</td>\n",
       "    </tr>\n",
       "    <tr>\n",
       "      <th>3</th>\n",
       "      <td>to_austral</td>\n",
       "      <td>topics</td>\n",
       "      <td>0</td>\n",
       "    </tr>\n",
       "    <tr>\n",
       "      <th>4</th>\n",
       "      <td>to_barley</td>\n",
       "      <td>topics</td>\n",
       "      <td>0</td>\n",
       "    </tr>\n",
       "  </tbody>\n",
       "</table>\n",
       "</div>"
      ],
      "text/plain": [
       "         name    type  newslines\n",
       "0      to_acq  topics          0\n",
       "1     to_alum  topics          0\n",
       "2  to_austdlr  topics          0\n",
       "3  to_austral  topics          0\n",
       "4   to_barley  topics          0"
      ]
     },
     "execution_count": 212,
     "metadata": {},
     "output_type": "execute_result"
    }
   ],
   "source": [
    "# Create category dataframe\n",
    "\n",
    "# Read all categories\n",
    "category_data = []\n",
    "\n",
    "for category_prefix in category_files.keys():\n",
    "    with open(data_folder + category_files[category_prefix][1], 'r') as file:\n",
    "        for category in file.readlines():\n",
    "            category_data.append([category_prefix + category.strip().lower(), \n",
    "                                  category_files[category_prefix][0], 0])\n",
    "\n",
    "# Create category dataframe\n",
    "news_categories = pd.DataFrame(data=category_data, columns=['name', 'type', 'newslines'])\n",
    "news_categories[:5]"
   ]
  },
  {
   "cell_type": "code",
   "execution_count": 5,
   "metadata": {},
   "outputs": [],
   "source": [
    "#Preprocessing text\n",
    "def strip_tags(text):\n",
    "    return re.sub('<[^<]+?>', '', text).strip()\n",
    "\n",
    "#Category List\n",
    "def add_cat(categories, cat_type):\n",
    "    for cat in categories:\n",
    "        document_categories.append(cat_type + cat.text)"
   ]
  },
  {
   "cell_type": "code",
   "execution_count": 227,
   "metadata": {},
   "outputs": [],
   "source": [
    "#Load data from sgm files to pandas.\n",
    "\n",
    "doc_list = []\n",
    "for sgm_file in sgml_files:\n",
    "    with open(sgm_file, 'r', errors='replace') as file:\n",
    "        content = BeautifulSoup(file.read().lower())\n",
    "\n",
    "    for newsline in content('reuters'):\n",
    "        document = {}\n",
    "        document_categories = []\n",
    "        document_id = newsline['newid']\n",
    "\n",
    "        document_body = strip_tags(newsline('text')[0].text).replace('reuter', ' ').replace('reuters', ' ').replace('\\n', ' ')\n",
    "        #document_body = html.unescape(document_body)\n",
    "        document_body = simple_preprocess(document_body)\n",
    "        #document_body = [word.decode('utf-8').split('/')[0] for word in gensim.utils.lemmatize(document_body)]\n",
    "        \n",
    "        document_categories = []\n",
    "        add_cat(newsline.topics, 'to_')\n",
    "        add_cat(newsline.places, 'pl_')\n",
    "        add_cat(newsline.people, 'pe_')\n",
    "        add_cat(newsline.orgs, 'or_')\n",
    "        add_cat(newsline.exchanges, 'ex_')\n",
    "\n",
    "        document['id'] = document_id\n",
    "        document['document_body'] = document_body\n",
    "        for topic in news_categories.loc[news_categories['type'] == 'topics', 'name']:\n",
    "            document[topic] = 1. if topic in document_categories else 0.\n",
    "        doc_list.append(document)\n",
    "        for category in document_categories:\n",
    "            news_categories.loc[news_categories['name']==category, 'newslines'] += 1.0\n",
    "    #print(sgm_file)\n"
   ]
  },
  {
   "cell_type": "code",
   "execution_count": 213,
   "metadata": {},
   "outputs": [],
   "source": [
    "doc_topic = pd.DataFrame(doc_list).set_index('id')\n",
    "del doc_list"
   ]
  },
  {
   "cell_type": "markdown",
   "metadata": {},
   "source": [
    "#### A skip-gram word2vec model with 300 features. Corpus is the entire words available in the dataset.\n"
   ]
  },
  {
   "cell_type": "code",
   "execution_count": 214,
   "metadata": {},
   "outputs": [],
   "source": [
    "w2v_model = Word2Vec(\n",
    "        doc_topic['document_body'],\n",
    "        size=num_features,\n",
    "        window=10,\n",
    "        min_count=2,\n",
    "        workers=10)"
   ]
  },
  {
   "cell_type": "code",
   "execution_count": 215,
   "metadata": {},
   "outputs": [
    {
     "data": {
      "text/plain": [
       "(100943583, 128504300)"
      ]
     },
     "execution_count": 215,
     "metadata": {},
     "output_type": "execute_result"
    }
   ],
   "source": [
    "w2v_model.train(doc_topic['document_body'], total_examples=len(doc_topic['document_body']), epochs=50)"
   ]
  },
  {
   "cell_type": "markdown",
   "metadata": {},
   "source": [
    "#### Some Semantic similarity checks on our word2vec model."
   ]
  },
  {
   "cell_type": "markdown",
   "metadata": {},
   "source": [
    "##### Set of most similiar vectors with v(iraq) + v(iran) - v(baghdad) contains 'tehran', 'karbala' etc"
   ]
  },
  {
   "cell_type": "code",
   "execution_count": 216,
   "metadata": {},
   "outputs": [
    {
     "data": {
      "text/plain": [
       "[('hostilities', 0.31092846393585205),\n",
       " ('redman', 0.3050450086593628),\n",
       " ('arms', 0.2994941771030426),\n",
       " ('tehran', 0.298763632774353),\n",
       " ('iranian', 0.2860909700393677),\n",
       " ('arabia', 0.28553706407546997),\n",
       " ('karbala', 0.28208422660827637),\n",
       " ('kuwait', 0.28117358684539795),\n",
       " ('offensive', 0.2797704339027405),\n",
       " ('nigeria', 0.27610278129577637)]"
      ]
     },
     "execution_count": 216,
     "metadata": {},
     "output_type": "execute_result"
    }
   ],
   "source": [
    "w2v_model.wv.most_similar(positive=['iraq', 'iran'], negative=['baghdad'])"
   ]
  },
  {
   "cell_type": "markdown",
   "metadata": {},
   "source": [
    "##### Set of most similiar vectors with v(french) + v(english) - v(france) contains 'languages' "
   ]
  },
  {
   "cell_type": "code",
   "execution_count": 220,
   "metadata": {},
   "outputs": [
    {
     "data": {
      "text/plain": [
       "[('language', 0.2767493426799774),\n",
       " ('teacher', 0.26954251527786255),\n",
       " ('collectively', 0.2528124749660492),\n",
       " ('amnesty', 0.23045136034488678),\n",
       " ('zeitung', 0.22088424861431122),\n",
       " ('mirabel', 0.21827362477779388),\n",
       " ('boersen', 0.21655094623565674),\n",
       " ('subsidy', 0.21044550836086273),\n",
       " ('von', 0.20955589413642883),\n",
       " ('quoting', 0.209518164396286)]"
      ]
     },
     "execution_count": 220,
     "metadata": {},
     "output_type": "execute_result"
    }
   ],
   "source": [
    "w2v_model.wv.most_similar(positive=['french', 'english'], negative=['france', 'england'])"
   ]
  },
  {
   "cell_type": "markdown",
   "metadata": {},
   "source": [
    "##### Set of most similiar vectors with v(actress) + v(woman) - v(man) contains 'actress'"
   ]
  },
  {
   "cell_type": "code",
   "execution_count": 218,
   "metadata": {},
   "outputs": [
    {
     "data": {
      "text/plain": [
       "[('actress', 0.348752498626709),\n",
       " ('screenplay', 0.2872823476791382),\n",
       " ('performs', 0.2742621898651123),\n",
       " ('extorting', 0.27390730381011963),\n",
       " ('tsuda', 0.26588401198387146),\n",
       " ('milestone', 0.26565444469451904),\n",
       " ('oscar', 0.2527948319911957),\n",
       " ('pompano', 0.25246545672416687),\n",
       " ('wachovia', 0.24646367132663727),\n",
       " ('tuskaloosa', 0.23814301192760468)]"
      ]
     },
     "execution_count": 218,
     "metadata": {},
     "output_type": "execute_result"
    }
   ],
   "source": [
    "w2v_model.wv.most_similar(positive=['actor', 'woman'], negative=['man'])"
   ]
  },
  {
   "cell_type": "code",
   "execution_count": null,
   "metadata": {},
   "outputs": [],
   "source": [
    "#w2v_model.wv.save('reuters.word2vec')\n",
    "#w2v_model = KeyedVectors.load('reuters.word2vec', mmap='r')"
   ]
  },
  {
   "cell_type": "code",
   "execution_count": 253,
   "metadata": {},
   "outputs": [],
   "source": [
    "topics = news_categories[news_categories['type']=='topics'].sort_values('newslines', ascending=False)\n",
    "sparse_topics = list(topics['name'][news_categories['newslines']<20])\n",
    "sparse_topics\n",
    "#removing all topic features that have less than 20 documents (ie very low predictive potential)\n",
    "for topic in sparse_topics:\n",
    "    del doc_topic[topic]          \n",
    "\n",
    "#removing all data points with no category once sparse_topics have been removed\n",
    "doc_topic = doc_topic[doc_topic.sum(axis=1)>=1.0]"
   ]
  },
  {
   "cell_type": "code",
   "execution_count": 269,
   "metadata": {},
   "outputs": [],
   "source": [
    "x_ax = topics[0:10].name.values\n",
    "y_ax = topics[0:10].newslines.values"
   ]
  },
  {
   "cell_type": "markdown",
   "metadata": {},
   "source": [
    "##### Top 10 Topics and their count"
   ]
  },
  {
   "cell_type": "code",
   "execution_count": 274,
   "metadata": {},
   "outputs": [
    {
     "data": {
      "text/plain": [
       "([0, 1, 2, 3, 4, 5, 6, 7, 8, 9], <a list of 10 Text xticklabel objects>)"
      ]
     },
     "execution_count": 274,
     "metadata": {},
     "output_type": "execute_result"
    },
    {
     "data": {
      "image/png": "[encoded data removed]",
      "text/plain": [
       "<Figure size 432x288 with 1 Axes>"
      ]
     },
     "metadata": {
      "needs_background": "light"
     },
     "output_type": "display_data"
    }
   ],
   "source": [
    "plt.bar(x_ax, y_ax)\n",
    "plt.xticks(rotation=45)\n",
    "#plt.show()"
   ]
  },
  {
   "cell_type": "code",
   "execution_count": 241,
   "metadata": {},
   "outputs": [
    {
     "data": {
      "text/plain": [
       "21578"
      ]
     },
     "execution_count": 241,
     "metadata": {},
     "output_type": "execute_result"
    }
   ],
   "source": [
    "num_categories = doc_topic.shape[1] - 1\n",
    "number_of_documents = doc_topic.shape[0]\n",
    "number_of_documents"
   ]
  },
  {
   "cell_type": "markdown",
   "metadata": {},
   "source": [
    "##### Functions for vectorising and padding documents\n"
   ]
  },
  {
   "cell_type": "code",
   "execution_count": 134,
   "metadata": {},
   "outputs": [],
   "source": [
    "def return_w2v(word):\n",
    "    try:\n",
    "        return w2v_model.wv[word] \n",
    "    except:\n",
    "        return np.array([0.0]*num_features)\n",
    "        \n",
    "\n",
    "def vectorize_doc(doc):\n",
    "    list_ = [return_w2v(word)  for word in doc]\n",
    "    arr_ = list_ + [[0.0]*num_features]*(document_max_num_words-len(list_))\n",
    "    return np.array(arr_)\n",
    "    "
   ]
  },
  {
   "cell_type": "code",
   "execution_count": 47,
   "metadata": {},
   "outputs": [],
   "source": [
    "X = np.stack(doc_topic['document_body'].apply(lambda x: x[:100]).apply(vectorize_doc).values)\n",
    "Y = doc_topic.iloc[:,1:].values"
   ]
  },
  {
   "cell_type": "code",
   "execution_count": 48,
   "metadata": {},
   "outputs": [],
   "source": [
    "X_train, X_test, Y_train, Y_test = train_test_split(X, Y, test_size=0.3)\n",
    "del X"
   ]
  },
  {
   "cell_type": "markdown",
   "metadata": {},
   "source": [
    "##### Model Definition. Simple Sequential Model.\n"
   ]
  },
  {
   "cell_type": "code",
   "execution_count": 49,
   "metadata": {},
   "outputs": [
    {
     "name": "stdout",
     "output_type": "stream",
     "text": [
      "WARNING:tensorflow:From /home/nihal/repos/jupyter/tens1/lib/python3.6/site-packages/tensorflow/python/framework/op_def_library.py:263: colocate_with (from tensorflow.python.framework.ops) is deprecated and will be removed in a future version.\n",
      "Instructions for updating:\n",
      "Colocations handled automatically by placer.\n",
      "WARNING:tensorflow:From /home/nihal/repos/jupyter/tens1/lib/python3.6/site-packages/keras/backend/tensorflow_backend.py:3445: calling dropout (from tensorflow.python.ops.nn_ops) with keep_prob is deprecated and will be removed in a future version.\n",
      "Instructions for updating:\n",
      "Please use `rate` instead of `keep_prob`. Rate should be set to `rate = 1 - keep_prob`.\n"
     ]
    }
   ],
   "source": [
    "model = Sequential()\n",
    "model.add(LSTM(int(document_max_num_words*1.5), input_shape=(document_max_num_words, num_features)))\n",
    "model.add(Dropout(0.2))\n",
    "#model.add(BatchNormalization())\n",
    "model.add(Dense(num_categories))\n",
    "model.add(Activation('sigmoid'))\n",
    "adam = optimizers.adam(lr=0.0001)\n",
    "model.compile(loss='binary_crossentropy', optimizer=adam, metrics=['acc'])"
   ]
  },
  {
   "cell_type": "markdown",
   "metadata": {},
   "source": [
    "##### Model accuracy and log seems to converge at around 4th epoch. Since this is a multilabel classification 'accuracy' is not a good metric."
   ]
  },
  {
   "cell_type": "code",
   "execution_count": 50,
   "metadata": {},
   "outputs": [
    {
     "data": {
      "image/png": "[encoded data removed]",
      "text/plain": [
       "<Figure size 864x576 with 2 Axes>"
      ]
     },
     "metadata": {
      "needs_background": "light"
     },
     "output_type": "display_data"
    },
    {
     "name": "stdout",
     "output_type": "stream",
     "text": [
      "Log-loss (cost function):\n",
      "training   (min:    0.080, max:    0.652, cur:    0.080)\n",
      "validation (min:    0.075, max:    0.525, cur:    0.075)\n",
      "\n",
      "Accuracy:\n",
      "training   (min:    0.818, max:    0.978, cur:    0.978)\n",
      "validation (min:    0.926, max:    0.979, cur:    0.979)\n"
     ]
    },
    {
     "data": {
      "text/plain": [
       "<keras.callbacks.History at 0x7fd61b9e8ac8>"
      ]
     },
     "execution_count": 50,
     "metadata": {},
     "output_type": "execute_result"
    }
   ],
   "source": [
    "model.fit(X_train, Y_train, batch_size=128, epochs=4, validation_data=(X_test, Y_test), \\\n",
    "          callbacks=[PlotLossesCallback()], verbose=0)\n"
   ]
  },
  {
   "cell_type": "code",
   "execution_count": 51,
   "metadata": {},
   "outputs": [
    {
     "name": "stdout",
     "output_type": "stream",
     "text": [
      "3384/3384 [==============================] - 3s 1000us/step\n"
     ]
    },
    {
     "data": {
      "text/plain": [
       "(0.0748821731225255, 0.9785108669147987)"
      ]
     },
     "execution_count": 51,
     "metadata": {},
     "output_type": "execute_result"
    }
   ],
   "source": [
    "score, acc = model.evaluate(X_test, Y_test, batch_size=128)\n",
    "score, acc"
   ]
  },
  {
   "cell_type": "markdown",
   "metadata": {},
   "source": [
    "##### A comparison between the actual topics and top-5 predicted topics of one data-point."
   ]
  },
  {
   "cell_type": "code",
   "execution_count": 208,
   "metadata": {},
   "outputs": [],
   "source": [
    "validation_set =  doc_topic[3000:3001]\n",
    "validation_X = validation_set['document_body']\n",
    "validation_Y_observed = [x for x in validation_set.iloc[:,1:].columns if validation_set[x].values == 1]\n",
    "validation_Y_predicted = pd.DataFrame([dict(zip(validation_set.iloc[:,1:].columns, \\\n",
    "                                                model.predict(np.array([vectorize_doc(validation_X[0][:100])]))[0]))])"
   ]
  },
  {
   "cell_type": "markdown",
   "metadata": {},
   "source": [
    "##### Both the predicted and actual topics seems to agree. TODO: Check top-5 accuracy."
   ]
  },
  {
   "cell_type": "code",
   "execution_count": 229,
   "metadata": {},
   "outputs": [
    {
     "data": {
      "text/html": [
       "<div>\n",
       "<style scoped>\n",
       "    .dataframe tbody tr th:only-of-type {\n",
       "        vertical-align: middle;\n",
       "    }\n",
       "\n",
       "    .dataframe tbody tr th {\n",
       "        vertical-align: top;\n",
       "    }\n",
       "\n",
       "    .dataframe thead th {\n",
       "        text-align: right;\n",
       "    }\n",
       "</style>\n",
       "<table border=\"1\" class=\"dataframe\">\n",
       "  <thead>\n",
       "    <tr style=\"text-align: right;\">\n",
       "      <th></th>\n",
       "      <th>variable</th>\n",
       "      <th>value</th>\n",
       "    </tr>\n",
       "  </thead>\n",
       "  <tbody>\n",
       "    <tr>\n",
       "      <th>13</th>\n",
       "      <td>to_earn</td>\n",
       "      <td>0.387894</td>\n",
       "    </tr>\n",
       "    <tr>\n",
       "      <th>0</th>\n",
       "      <td>to_acq</td>\n",
       "      <td>0.190700</td>\n",
       "    </tr>\n",
       "    <tr>\n",
       "      <th>29</th>\n",
       "      <td>to_money-fx</td>\n",
       "      <td>0.055718</td>\n",
       "    </tr>\n",
       "    <tr>\n",
       "      <th>18</th>\n",
       "      <td>to_grain</td>\n",
       "      <td>0.039848</td>\n",
       "    </tr>\n",
       "    <tr>\n",
       "      <th>11</th>\n",
       "      <td>to_crude</td>\n",
       "      <td>0.039223</td>\n",
       "    </tr>\n",
       "  </tbody>\n",
       "</table>\n",
       "</div>"
      ],
      "text/plain": [
       "       variable     value\n",
       "13      to_earn  0.387894\n",
       "0        to_acq  0.190700\n",
       "29  to_money-fx  0.055718\n",
       "18     to_grain  0.039848\n",
       "11     to_crude  0.039223"
      ]
     },
     "execution_count": 229,
     "metadata": {},
     "output_type": "execute_result"
    }
   ],
   "source": [
    "#validation_Y_predicted.idxmax(axis=1)\n",
    "validation_Y_predicted.melt().sort_values('value', ascending=False)[:5]"
   ]
  },
  {
   "cell_type": "code",
   "execution_count": 230,
   "metadata": {},
   "outputs": [
    {
     "data": {
      "text/plain": [
       "['to_earn']"
      ]
     },
     "execution_count": 230,
     "metadata": {},
     "output_type": "execute_result"
    }
   ],
   "source": [
    "validation_Y_observed"
   ]
  },
  {
   "cell_type": "code",
   "execution_count": null,
   "metadata": {},
   "outputs": [],
   "source": []
  }
 ],
 "metadata": {
  "kernelspec": {
   "display_name": "tens1",
   "language": "python",
   "name": "tens1"
  },
  "language_info": {
   "codemirror_mode": {
    "name": "ipython",
    "version": 3
   },
   "file_extension": ".py",
   "mimetype": "text/x-python",
   "name": "python",
   "nbconvert_exporter": "python",
   "pygments_lexer": "ipython3",
   "version": "3.6.7"
  }
 },
 "nbformat": 4,
 "nbformat_minor": 2
}
