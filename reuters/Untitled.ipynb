{
 "cells": [
  {
   "cell_type": "code",
   "execution_count": null,
   "metadata": {},
   "outputs": [],
   "source": [
    "document_Y = {}\n",
    "\n",
    "\n",
    "for sgm_file in sgm_file_list:\n",
    "    with open(sgm_file, 'r', errors='replace') as file:\n",
    "        content = BeautifulSoup(file.read().lower())\n",
    "\n",
    "    for newsline in content('reuters'):\n",
    "        document_categories = []\n",
    "        document_id = newsline['newid']\n",
    "\n",
    "        document_body = strip_tags(newsline('text')[0].text).replace('reuter', ' ').replace('reuters', ' ').replace('\\n', ' ')\n",
    "        #document_body = html.unescape(document_body)\n",
    "        document_body = gensim.utils.simple_preprocess(document_body)\n",
    "        #document_body = [word.decode('utf-8').split('/')[0] for word in gensim.utils.lemmatize(document_body)]\n",
    "        \n",
    "        document_categories = []\n",
    "        add_cat(newsline.topics, 'to_')\n",
    "        add_cat(newsline.places, 'pl_')\n",
    "        add_cat(newsline.people, 'pe_')\n",
    "        add_cat(newsline.orgs, 'or_')\n",
    "        add_cat(newsline.exchanges, 'ex_')\n",
    "\n",
    "        document_X[document_id] = document_body\n",
    "        document_Y[document_id] = to_category_vector(document_categories, selected_categories)\n",
    "    print(sgm_file)\n",
    "\n"
   ]
  },
  {
   "cell_type": "code",
   "execution_count": null,
   "metadata": {},
   "outputs": [],
   "source": [
    "number_of_documents = len(X_)\n",
    "num_features = 150\n",
    "num_categories = len(selected_categories)\n",
    "X = np.zeros(shape=(number_of_documents, document_max_num_words, 150)).astype(float)\n",
    "Y = np.zeros(shape=(number_of_documents, num_categories)).astype(float)\n",
    "empty_word = np.zeros(150).astype(float)\n",
    "\n",
    "for idx, document in enumerate(X_):\n",
    "    for jdx, word in enumerate(document):\n",
    "        if jdx == document_max_num_words:\n",
    "            break\n",
    "            \n",
    "        else:\n",
    "            if word in list(w2v_model.vocab.keys()):\n",
    "                X[idx, jdx, :] = w2v_model[word]\n",
    "            else:\n",
    "                X[idx, jdx, :] = empty_word\n",
    "\n",
    "for idx, value in enumerate(Y_):\n",
    "    Y[idx, :] = value"
   ]
  }
 ],
 "metadata": {
  "kernelspec": {
   "display_name": "tens1",
   "language": "python",
   "name": "tens1"
  },
  "language_info": {
   "codemirror_mode": {
    "name": "ipython",
    "version": 3
   },
   "file_extension": ".py",
   "mimetype": "text/x-python",
   "name": "python",
   "nbconvert_exporter": "python",
   "pygments_lexer": "ipython3",
   "version": "3.6.7"
  }
 },
 "nbformat": 4,
 "nbformat_minor": 2
}
