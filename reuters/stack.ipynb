{
 "cells": [
  {
   "cell_type": "code",
   "execution_count": 145,
   "metadata": {},
   "outputs": [],
   "source": [
    "import pandas as pd\n",
    "import unidecode"
   ]
  },
  {
   "cell_type": "code",
   "execution_count": 162,
   "metadata": {},
   "outputs": [],
   "source": [
    "df_ = pd.read_csv('~/btq8-arch/3.csv')"
   ]
  },
  {
   "cell_type": "code",
   "execution_count": 167,
   "metadata": {},
   "outputs": [
    {
     "data": {
      "text/plain": [
       "b'Caf\\xc3\\x83\\xc2\\x83\\xc3\\x82\\xc2\\x83\\xc3\\x83\\xc2\\x82\\xc3\\x82\\xc2\\x83\\xc3\\x83\\xc2\\x83\\xc3\\x82\\xc2\\x82\\xc3\\x83\\xc2\\x82\\xc3\\x82\\xc2\\x83\\xc3\\x83\\xc2\\x83\\xc3\\x82\\xc2\\x83\\xc3\\x83\\xc2\\x82\\xc3\\x82\\xc2\\x82\\xc3\\x83\\xc2\\x83\\xc3\\x82\\xc2\\x82\\xc3\\x83\\xc2\\x82\\xc3\\x82\\xc2\\xa9 Down The Alley'"
      ]
     },
     "execution_count": 167,
     "metadata": {},
     "output_type": "execute_result"
    }
   ],
   "source": [
    "df_['name'].str.encode('latin', errors='coerce')[1]"
   ]
  },
  {
   "cell_type": "code",
   "execution_count": null,
   "metadata": {},
   "outputs": [],
   "source": []
  }
 ],
 "metadata": {
  "kernelspec": {
   "display_name": "Python 3",
   "language": "python",
   "name": "python3"
  },
  "language_info": {
   "codemirror_mode": {
    "name": "ipython",
    "version": 3
   },
   "file_extension": ".py",
   "mimetype": "text/x-python",
   "name": "python",
   "nbconvert_exporter": "python",
   "pygments_lexer": "ipython3",
   "version": "3.6.6"
  }
 },
 "nbformat": 4,
 "nbformat_minor": 2
}
